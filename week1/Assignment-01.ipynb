{
 "cells": [
  {
   "cell_type": "markdown",
   "metadata": {},
   "source": [
    "# Exercise I: Your own Python module "
   ]
  },
  {
   "cell_type": "markdown",
   "metadata": {},
   "source": [
    "Write your own python module (choose a name) with the following properties:\n",
    "\n",
    "1. start new python file for the module\n",
    "2. define a class ***ListKeeper*** with the following properties and API:\n",
    "   1. ***Listkeeper*** strores named lists (hint: use dictionaries) \n",
    "   2. it initializes with a list named *example*: [1,2,3,4,5]\n",
    "   3. ``show()`` returns all list names\n",
    "   4. ``add(name, list)`` adds a new list\n",
    "   5. ``delete(name)`` deletes list\n",
    "   6. ``sort(name)`` returns the sorted list *name*\n",
    "   7. ``append(name, list)`` appends *list* to *name* \n",
    "3. add comments and documentation to your class\n",
    "4. Import your module in this notebook\n",
    "5. write tests to check the functionality of your class "
   ]
  },
  {
   "cell_type": "code",
   "execution_count": 1,
   "metadata": {},
   "outputs": [
    {
     "output_type": "error",
     "ename": "ModuleNotFoundError",
     "evalue": "No module named 'MySuperModule'",
     "traceback": [
      "\u001b[1;31m---------------------------------------------------------------------------\u001b[0m",
      "\u001b[1;31mModuleNotFoundError\u001b[0m                       Traceback (most recent call last)",
      "\u001b[1;32m<ipython-input-1-ed6aebebd5d5>\u001b[0m in \u001b[0;36m<module>\u001b[1;34m\u001b[0m\n\u001b[1;32m----> 1\u001b[1;33m \u001b[1;32mimport\u001b[0m \u001b[0mMySuperModule\u001b[0m\u001b[1;33m\u001b[0m\u001b[1;33m\u001b[0m\u001b[0m\n\u001b[0m\u001b[0;32m      2\u001b[0m \u001b[1;33m\u001b[0m\u001b[0m\n\u001b[0;32m      3\u001b[0m '''\n\u001b[0;32m      4\u001b[0m \u001b[0mListKeeper\u001b[0m \u001b[0mClass\u001b[0m\u001b[1;33m\u001b[0m\u001b[1;33m\u001b[0m\u001b[0m\n\u001b[0;32m      5\u001b[0m '''\n",
      "\u001b[1;31mModuleNotFoundError\u001b[0m: No module named 'MySuperModule'"
     ]
    }
   ],
   "source": [
    "import MySuperModule \n",
    "\n",
    "'''\n",
    "ListKeeper Class\n",
    "'''\n",
    "class ListKeeper:\n",
    "\n",
    "    def __init__(self):  # constructor for list keeper initializing list\n",
    "        self.items = {} #init list\n",
    "\n",
    "    def add(self, name, itemsList):  #adds a list of items to the list with a given name \n",
    "        self.items[name] = itemsList\n",
    "\n",
    "    def delete(self, name): #removes an itemsList by name\n",
    "        del self.items[name]\n",
    "\n",
    "    def show(self): #returns the list of items\n",
    "        return self.items\n",
    "\n",
    "    def append(self, name, _list): #appends to an already existing list\n",
    "        old_list = self.items[name] #get the old list \n",
    "        new_list = old_list + _list #join with the new list\n",
    "        self.items[name] = new_list #store the joined list\n",
    "\n",
    "    def sort(self, name): #returns a sorted itemsList by name\n",
    "        return sorted(self.items[name])\n",
    "\n",
    "\n",
    "if __name__ == '__main__':\n",
    "\n",
    "    #Test cases \n",
    "    ls = ListKeeper()\n",
    "\n",
    "    ls.add(\"shop\", [2, 4, 1, 5])\n",
    "    ls.append(\"shop\", [8, 7, 3, 0])\n",
    "    ls.add(\"main\", [8, 7, 3, 0])\n",
    "    ls.add(\"step\", [8, 7, 3, 0])\n",
    "\n",
    "    print(ls.show())\n",
    "    print(ls.sort(\"shop\"))\n",
    "\n",
    "    ls.delete(\"step\")\n",
    "    print(ls.show())\n"
   ]
  }
 ],
 "metadata": {
  "kernelspec": {
   "display_name": "Python 3",
   "language": "python",
   "name": "python3"
  },
  "language_info": {
   "codemirror_mode": {
    "name": "ipython",
    "version": 3
   },
   "file_extension": ".py",
   "mimetype": "text/x-python",
   "name": "python",
   "nbconvert_exporter": "python",
   "pygments_lexer": "ipython3",
   "version": "3.8.3-final"
  }
 },
 "nbformat": 4,
 "nbformat_minor": 2
}