{
 "cells": [
  {
   "cell_type": "markdown",
   "metadata": {},
   "source": [
    "# Exercise I: Your own Python module "
   ]
  },
  {
   "cell_type": "markdown",
   "metadata": {},
   "source": [
    "Write your own python module (choose a name) with the following properties:\n",
    "\n",
    "1. start new python file for the module\n",
    "2. define a class ***ListKeeper*** with the following properties and API:\n",
    "   1. ***Listkeeper*** strores named lists (hint: use dictionaries) \n",
    "   2. it initializes with a list named *example*: [1,2,3,4,5]\n",
    "   3. ``show()`` returns all list names\n",
    "   4. ``add(name, list)`` adds a new list\n",
    "   5. ``delete(name)`` deletes list\n",
    "   6. ``sort(name)`` returns the sorted list *name*\n",
    "   7. ``append(name, list)`` appends *list* to *name* \n",
    "3. add comments and documentation to your class\n",
    "4. Import your module in this notebook\n",
    "5. write tests to check the functionality of your class "
   ]
  },
  {
   "cell_type": "code",
   "execution_count": 1,
   "metadata": {},
   "outputs": [
    {
     "name": "stdout",
     "output_type": "stream",
     "text": [
      "None\n",
      "None\n",
      "None\n",
      "None\n"
     ]
    }
   ],
   "source": [
    "import Assignment1 as myPy #importing Assignemt1.py\n",
    "\n",
    "#print (dir(myPy))\n",
    "\n",
    "ListKeeper = myPy.ListKeeper\n",
    "\n",
    "#tests the function show()\n",
    "ListKeeper.show()\n",
    "\n",
    "#tests the funtion add() and tests if the new list was added\n",
    "ListKeeper.add(\"test2\", [2,3,4,5,6,7])\n",
    "ListKeeper.show()\n",
    "\n",
    "#deletes the newly added list\n",
    "ListKeeper.delete(\"test2\")\n",
    "ListKeeper.show()\n",
    "\n",
    "#added just for further testing\n",
    "ListKeeper.add(\"test2\", [1,3,4,5,6,7])\n",
    "\n",
    "#tests the sort() function\n",
    "ListKeeper.sort(\"test2\")\n",
    "\n",
    "#tests the append() function and shows the result\n",
    "ListKeeper.append(\"test2\", [8,9,10])\n",
    "(ListKeeper.sort(\"test2\"))"
   ]
  },
  {
   "cell_type": "code",
   "execution_count": null,
   "metadata": {},
   "outputs": [],
   "source": [
    "\n",
    "\n"
   ]
  },
  {
   "cell_type": "code",
   "execution_count": null,
   "metadata": {},
   "outputs": [],
   "source": []
  },
  {
   "cell_type": "code",
   "execution_count": null,
   "metadata": {},
   "outputs": [],
   "source": []
  }
 ],
 "metadata": {
  "kernelspec": {
   "display_name": "Python 3",
   "language": "python",
   "name": "python3"
  },
  "language_info": {
   "codemirror_mode": {
    "name": "ipython",
    "version": 3
   },
   "file_extension": ".py",
   "mimetype": "text/x-python",
   "name": "python",
   "nbconvert_exporter": "python",
   "pygments_lexer": "ipython3",
   "version": "3.8.3"
  }
 },
 "nbformat": 4,
 "nbformat_minor": 4
}
