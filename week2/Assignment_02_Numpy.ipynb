{
 "cells": [
  {
   "cell_type": "markdown",
   "metadata": {},
   "source": [
<<<<<<< HEAD
    "# Assignment: Numpy\n",
    "By Stefan Amoah Ababio"
=======
    "# Assignment: Numpy"
>>>>>>> upstream/main
   ]
  },
  {
   "cell_type": "markdown",
   "metadata": {},
   "source": [
    "Perform the follwing tasks:\n"
   ]
  },
  {
   "cell_type": "code",
<<<<<<< HEAD
   "execution_count": 2,
   "metadata": {},
   "outputs": [],
   "source": [
    "#1: import the numpy library\n",
    "import numpy as np"
=======
   "execution_count": 9,
   "metadata": {},
   "outputs": [],
   "source": [
    "#1: import the numpy library"
>>>>>>> upstream/main
   ]
  },
  {
   "cell_type": "code",
<<<<<<< HEAD
   "execution_count": 14,
   "metadata": {},
   "outputs": [
    {
     "output_type": "stream",
     "name": "stdout",
     "text": [
      "[[6 2 3 5 9 8 0 0 1 8]\n [6 9 6 9 6 0 5 6 1 4]\n [9 2 1 7 4 1 1 1 7 7]\n [5 1 1 9 2 0 0 7 0 7]\n [4 1 8 3 2 9 8 1 9 2]\n [6 6 7 4 4 3 0 3 6 9]\n [5 0 1 1 9 2 2 5 5 2]\n [0 6 5 0 2 7 5 2 5 2]\n [6 6 7 4 3 9 4 9 8 8]\n [9 7 5 4 2 6 6 3 5 3]]\n"
     ]
    }
   ],
   "source": [
    "#2: create a random 10x10 array named A\n",
    "a = np.random.randint(10, size=(10, 10))\n",
    "print(a)\n"
=======
   "execution_count": 10,
   "metadata": {},
   "outputs": [],
   "source": [
    "#2: create a random 10x10 array named A\n"
>>>>>>> upstream/main
   ]
  },
  {
   "cell_type": "code",
<<<<<<< HEAD
   "execution_count": 15,
   "metadata": {},
   "outputs": [
    {
     "output_type": "stream",
     "name": "stdout",
     "text": [
      "[3 5 9 1 9 9 5 1 9 1 7 1 1 1 7 7 5 1 1 9 7 7 1 3 9 1 9 7 3 3 9 5 1 1 9 5 5\n 5 7 5 5 7 3 9 9 9 7 5 3 5 3]\n"
     ]
    }
   ],
   "source": [
    "#3: return only the odd rows of A\n",
    "oddRows = a[a % 2 == 1]\n",
    "print(oddRows)"
=======
   "execution_count": 11,
   "metadata": {},
   "outputs": [],
   "source": [
    "#3: return only the odd rows of A"
>>>>>>> upstream/main
   ]
  },
  {
   "cell_type": "code",
<<<<<<< HEAD
   "execution_count": 17,
   "metadata": {},
   "outputs": [
    {
     "output_type": "stream",
     "name": "stdout",
     "text": [
      "[[6 6 9 5 4 6 5 0 6 9]\n [2 9 2 1 1 6 0 6 6 7]\n [3 6 1 1 8 7 1 5 7 5]\n [5 9 7 9 3 4 1 0 4 4]\n [9 6 4 2 2 4 9 2 3 2]\n [8 0 1 0 9 3 2 7 9 6]\n [0 5 1 0 8 0 2 5 4 6]\n [0 6 1 7 1 3 5 2 9 3]\n [1 1 7 0 9 6 5 5 8 5]\n [8 4 7 7 2 9 2 2 8 3]]\n"
     ]
    }
   ],
   "source": [
    "#4: perform a matrix multiplication of A with it's transposed\n",
    "b = a.transpose()\n",
    "print(b)"
=======
   "execution_count": 12,
   "metadata": {},
   "outputs": [],
   "source": [
    "#4: perform a matrix multiplication of A with it's transposed\n"
>>>>>>> upstream/main
   ]
  },
  {
   "cell_type": "code",
<<<<<<< HEAD
   "execution_count": 22,
   "metadata": {},
   "outputs": [
    {
     "output_type": "stream",
     "name": "stdout",
     "text": [
      "[[-0.00126282 -0.05147299 -0.05079565  0.00961027 -0.006033    0.04864169\n   0.03528172 -0.1136808  -0.03195856  0.16368323]\n [ 0.03424082  0.15856067  0.13310262 -0.24060208 -0.09373782 -0.12739629\n  -0.10889673 -0.06258739  0.22399565 -0.09020927]\n [ 0.02463825  0.12782749 -0.07080496 -0.16448136  0.10248208  0.05724858\n  -0.05906601 -0.26558038  0.13979287 -0.08355445]\n [ 0.13399961  0.41679053  0.3167878  -0.52829146  0.03827126 -0.40190537\n  -0.28322462 -0.44943846  0.61565551 -0.3926485 ]\n [ 0.04260328  0.05342473  0.00739462 -0.05120504 -0.00456744 -0.01516101\n   0.06335286  0.00629283 -0.00724755 -0.06119307]\n [ 0.14452043  0.20234008  0.15158464 -0.37164645 -0.00699358 -0.28918592\n  -0.18148745 -0.2933169   0.46334442 -0.18852578]\n [-0.22238656 -0.60484193 -0.40947987  1.00790542  0.032797    0.51171241\n   0.39793373  0.88601833 -1.1170176   0.56890414]\n [-0.02215603  0.04214995 -0.02323079 -0.03245949 -0.02173657 -0.06045058\n   0.02002183 -0.0908609   0.15456161 -0.03626867]\n [ 0.01407616  0.2042092   0.25819669 -0.36900397  0.00676062 -0.20369845\n  -0.11738577 -0.21885983  0.39009823 -0.26077498]\n [-0.16981083 -0.59743388 -0.35879761  0.92018311 -0.02310424  0.5567948\n   0.32481675  0.79499408 -0.97319021  0.46649299]]\n"
     ]
    }
   ],
   "source": [
    "#5: compute the matrix inverse of A\n",
    "inverse = np.linalg.inv(a)\n",
    "print(inverse)"
=======
   "execution_count": 13,
   "metadata": {},
   "outputs": [],
   "source": [
    "#5: compute the matrix inverse of A\n"
>>>>>>> upstream/main
   ]
  },
  {
   "cell_type": "code",
<<<<<<< HEAD
   "execution_count": 56,
   "metadata": {},
   "outputs": [
    {
     "output_type": "stream",
     "name": "stdout",
     "text": [
      "[[3.  1.  1.5 2.5 4.5 4.  0.  0.  0.5 4. ]\n [3.  4.5 3.  4.5 3.  0.  2.5 3.  0.5 2. ]\n [4.5 1.  0.5 3.5 2.  0.5 0.5 0.5 3.5 3.5]\n [2.5 0.5 0.5 4.5 1.  0.  0.  3.5 0.  3.5]\n [2.  0.5 4.  1.5 1.  4.5 4.  0.5 4.5 1. ]\n [3.  3.  3.5 2.  2.  1.5 0.  1.5 3.  4.5]\n [2.5 0.  0.5 0.5 4.5 1.  1.  2.5 2.5 1. ]\n [0.  3.  2.5 0.  1.  3.5 2.5 1.  2.5 1. ]\n [3.  3.  3.5 2.  1.5 4.5 2.  4.5 4.  4. ]\n [4.5 3.5 2.5 2.  1.  3.  3.  1.5 2.5 1.5]]\n"
     ]
    }
   ],
   "source": [
    "#6: divide all entries of A which are larger than 0.5 by 2 (hint: use where() )\n",
    "if a.any() > 0.5:\n",
    "    larger1 = a\n",
    "    larger2 = larger1 / 2\n",
    "    print(larger2)\n",
    "\n",
    "    \n"
=======
   "execution_count": 14,
   "metadata": {},
   "outputs": [],
   "source": [
    "#6: divide all entries of A which are lager than 0.5 by 2 (hint: use where() )"
>>>>>>> upstream/main
   ]
  },
  {
   "cell_type": "code",
<<<<<<< HEAD
   "execution_count": 72,
   "metadata": {},
   "outputs": [
    {
     "output_type": "execute_result",
     "data": {
      "text/plain": [
       "((10, 10), (10,), (10, 10))"
      ]
     },
     "metadata": {},
     "execution_count": 72
    }
   ],
   "source": [
    "#7: compute the singular value decomposition of A\n",
    "#7.1: plot the singular values\n",
    "#7.2: reconstruct A' by using only the top 5 singular values\n",
    "\n",
    "w, y, z = np.linalg.svd(a, full_matrices=True)\n",
    "w.shape, y.shape, z.shape"
=======
   "execution_count": 15,
   "metadata": {},
   "outputs": [],
   "source": [
    "#7: compute the singular value decomposition of A\n",
    "#7.1: plot the singular values\n",
    "#7.2: reconstruct A' by using only the top 5 singular values"
>>>>>>> upstream/main
   ]
  },
  {
   "cell_type": "code",
   "execution_count": null,
   "metadata": {},
   "outputs": [],
   "source": []
  }
 ],
 "metadata": {
  "kernelspec": {
   "display_name": "Python 3",
   "language": "python",
   "name": "python3"
  },
  "language_info": {
   "codemirror_mode": {
    "name": "ipython",
    "version": 3
   },
   "file_extension": ".py",
   "mimetype": "text/x-python",
   "name": "python",
   "nbconvert_exporter": "python",
   "pygments_lexer": "ipython3",
<<<<<<< HEAD
   "version": "3.8.3-final"
=======
   "version": "3.7.6"
>>>>>>> upstream/main
  }
 },
 "nbformat": 4,
 "nbformat_minor": 2
<<<<<<< HEAD
}
=======
}
>>>>>>> upstream/main
