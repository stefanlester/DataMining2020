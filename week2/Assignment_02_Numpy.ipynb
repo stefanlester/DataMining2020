{
 "cells": [
  {
   "cell_type": "markdown",
   "metadata": {},
   "source": [
    "# Assignment: Numpy\n",
    "By Stefan Amoah ABabio"
   ]
  },
  {
   "cell_type": "markdown",
   "metadata": {},
   "source": [
    "Perform the follwing tasks:\n"
   ]
  },
  {
   "cell_type": "code",
   "execution_count": 2,
   "metadata": {},
   "outputs": [],
   "source": [
    "#1: import the numpy library\n",
    "import numpy as np"
   ]
  },
  {
   "cell_type": "code",
   "execution_count": 6,
   "metadata": {},
   "outputs": [
    {
     "output_type": "stream",
     "name": "stdout",
     "text": [
      "[[4 1 3 4 7 5 1 8 3 6]\n [1 1 8 3 2 8 3 0 9 3]\n [8 1 9 5 0 3 2 0 0 9]\n [6 2 5 6 0 7 4 6 3 3]\n [4 5 0 7 3 1 8 1 6 4]\n [8 8 5 5 8 3 1 1 5 0]\n [8 8 5 8 0 1 2 4 9 9]\n [7 2 1 6 5 8 7 0 0 5]\n [3 9 9 9 4 1 3 2 9 7]\n [0 5 5 3 3 7 3 0 9 7]]\n"
     ]
    }
   ],
   "source": [
    "#2: create a random 10x10 array named A\n",
    "a = np.random.randint(10, size=(10, 10))\n",
    "print(a)\n"
   ]
  },
  {
   "cell_type": "code",
   "execution_count": 7,
   "metadata": {},
   "outputs": [
    {
     "output_type": "stream",
     "name": "stdout",
     "text": [
      "[1 3 7 5 1 3 1 1 3 3 9 3 1 9 5 3 9 5 7 3 3 5 7 3 1 1 5 5 3 1 1 5 5 1 9 9 7\n 1 5 7 5 3 9 9 9 1 3 9 7 5 5 3 3 7 3 9 7]\n"
     ]
    }
   ],
   "source": [
    "#3: return only the odd rows of A\n",
    "oddRows = a[a % 2 ==1]\n",
    "print(oddRows)"
   ]
  },
  {
   "cell_type": "code",
   "execution_count": 8,
   "metadata": {},
   "outputs": [
    {
     "output_type": "stream",
     "name": "stdout",
     "text": [
      "[[4 1 8 6 4 8 8 7 3 0]\n [1 1 1 2 5 8 8 2 9 5]\n [3 8 9 5 0 5 5 1 9 5]\n [4 3 5 6 7 5 8 6 9 3]\n [7 2 0 0 3 8 0 5 4 3]\n [5 8 3 7 1 3 1 8 1 7]\n [1 3 2 4 8 1 2 7 3 3]\n [8 0 0 6 1 1 4 0 2 0]\n [3 9 0 3 6 5 9 0 9 9]\n [6 3 9 3 4 0 9 5 7 7]]\n"
     ]
    }
   ],
   "source": [
    "#4: perform a matrix multiplication of A with it's transposed\n",
    "b = a.transpose()\n",
    "print(b)\n"
   ]
  },
  {
   "cell_type": "code",
   "execution_count": 10,
   "metadata": {},
   "outputs": [
    {
     "output_type": "stream",
     "name": "stdout",
     "text": [
      "[[-0.00204627  0.02673062  0.0580512  -0.01349901  0.05016307  0.07404453\n   0.05750541 -0.03853076 -0.12843251 -0.02519966]\n [-0.07202324 -0.21663496  0.03344946  0.13879319  0.02407166  0.08633096\n  -0.08731435 -0.09392412 -0.00885921  0.22654245]\n [-0.00809802 -0.03160776  0.11995779  0.07834093  0.07016824  0.05134038\n  -0.13507602 -0.14239955  0.00676702  0.0612012 ]\n [-0.01114568  0.19428906 -0.22178693 -0.12973027 -0.24937016 -0.1634039\n   0.18905039  0.34415716  0.26205977 -0.34141385]\n [ 0.07845326  0.02546931  0.00441443 -0.09001274  0.02291583  0.03469465\n  -0.04428196  0.01465174  0.01598385 -0.02787008]\n [-0.03242968  0.01366467 -0.07763658  0.03745925 -0.12981203 -0.02093232\n   0.03771526  0.12078971  0.01728261  0.02783136]\n [-0.01258194 -0.12256259  0.15484748  0.13215119  0.27658835  0.06402873\n  -0.20169468 -0.21781249 -0.113045    0.1774821 ]\n [ 0.06023329 -0.09821833  0.03635252  0.13255522  0.08349207  0.02365792\n  -0.07334178 -0.14698471 -0.04549025  0.08398285]\n [ 0.02215724  0.13637213 -0.04329306 -0.08047779  0.02963216 -0.00502665\n   0.0969492  -0.01278696 -0.05339672 -0.0663355 ]\n [ 0.03771743 -0.05333936  0.05051892 -0.05154425  0.00291332 -0.04322129\n   0.02088299  0.00402625 -0.01784896  0.07698389]]\n"
     ]
    }
   ],
   "source": [
    "#5: compute the matrix inverse of A\n",
    "inverse = np.linalg.inv(a)\n",
    "print(inverse)\n"
   ]
  },
  {
   "cell_type": "code",
   "execution_count": 11,
   "metadata": {},
   "outputs": [
    {
     "output_type": "stream",
     "name": "stdout",
     "text": [
      "[[2.  0.5 1.5 2.  3.5 2.5 0.5 4.  1.5 3. ]\n [0.5 0.5 4.  1.5 1.  4.  1.5 0.  4.5 1.5]\n [4.  0.5 4.5 2.5 0.  1.5 1.  0.  0.  4.5]\n [3.  1.  2.5 3.  0.  3.5 2.  3.  1.5 1.5]\n [2.  2.5 0.  3.5 1.5 0.5 4.  0.5 3.  2. ]\n [4.  4.  2.5 2.5 4.  1.5 0.5 0.5 2.5 0. ]\n [4.  4.  2.5 4.  0.  0.5 1.  2.  4.5 4.5]\n [3.5 1.  0.5 3.  2.5 4.  3.5 0.  0.  2.5]\n [1.5 4.5 4.5 4.5 2.  0.5 1.5 1.  4.5 3.5]\n [0.  2.5 2.5 1.5 1.5 3.5 1.5 0.  4.5 3.5]]\n"
     ]
    }
   ],
   "source": [
    "#6: divide all entries of A which are lager than 0.5 by 2 (hint: use where() )\n",
    "if a.any() > 0.5:\n",
    "    larger1 = a\n",
    "    larger2 = larger1 / 2\n",
    "    print(larger2)"
   ]
  },
  {
   "cell_type": "code",
   "execution_count": 12,
   "metadata": {},
   "outputs": [
    {
     "output_type": "execute_result",
     "data": {
      "text/plain": [
       "((10, 10), (10,), (10, 10))"
      ]
     },
     "metadata": {},
     "execution_count": 12
    }
   ],
   "source": [
    "#7: compute the singular value decomposition of A\n",
    "#7.1: plot the singular values\n",
    "#7.2: reconstruct A' by using only the top 5 singular values\n",
    "\n",
    "w,y,z = np.linalg.svd(a, full_matrices=True)\n",
    "w.shape, y.shape, z.shape"
   ]
  },
  {
   "cell_type": "code",
   "execution_count": null,
   "metadata": {},
   "outputs": [],
   "source": []
  }
 ],
 "metadata": {
  "kernelspec": {
   "display_name": "Python 3",
   "language": "python",
   "name": "python3"
  },
  "language_info": {
   "codemirror_mode": {
    "name": "ipython",
    "version": 3
   },
   "file_extension": ".py",
   "mimetype": "text/x-python",
   "name": "python",
   "nbconvert_exporter": "python",
   "pygments_lexer": "ipython3",
   "version": "3.8.3-final"
  }
 },
 "nbformat": 4,
 "nbformat_minor": 2
}